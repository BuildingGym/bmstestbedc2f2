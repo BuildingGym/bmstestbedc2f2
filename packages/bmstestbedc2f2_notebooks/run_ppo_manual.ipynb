{
 "cells": [
  {
   "cell_type": "code",
   "execution_count": null,
   "metadata": {},
   "outputs": [],
   "source": [
    "import os\n",
    "import threading\n",
    "from ray.rllib.algorithms.ppo import PPO, PPOConfig\n",
    "\n",
    "import bmstestbedc2f2.checkpoints\n",
    "from bmstestbedc2f2.systems import _TODO_ProtoBMSystem, _TODO_ManualBMSystem\n",
    "from bmstestbedc2f2.utils import resolve_path\n",
    "from bmstestbedc2f2.envs import _TODO_MultiAgentBuildingEnv\n",
    "\n",
    "\n",
    "class Controller(threading.Thread):\n",
    "    def __init__(self, system: _TODO_ProtoBMSystem):\n",
    "        super().__init__()\n",
    "        self._system = system\n",
    "\n",
    "        def bms_run_func(env):\n",
    "            env.attach(self._system)\n",
    "            env.schedule_episode(errors='warn')\n",
    "            env.system.start()\n",
    "            env.system.wait()\n",
    "\n",
    "        self._algo = PPO(\n",
    "            _TODO_MultiAgentBuildingEnv.get_algo_config(\n",
    "                PPOConfig()\n",
    "                .resources(num_gpus=.25)\n",
    "                .env_runners(\n",
    "                    num_env_runners=0,\n",
    "                    create_env_on_local_worker=True,\n",
    "                ),\n",
    "                env_config=dict(\n",
    "                    bms_system=bms_run_func,\n",
    "                ),\n",
    "            )\n",
    "        )\n",
    "\n",
    "    def run(self):\n",
    "        checkpoint_dir = resolve_path('ppo_neural', bmstestbedc2f2.checkpoints)\n",
    "        if os.path.exists(checkpoint_dir):\n",
    "            self._algo.restore(checkpoint_dir)\n",
    "        while True:\n",
    "            for _ in range(100):\n",
    "                print(self._algo.train())\n",
    "            self._algo.save(checkpoint_dir)\n",
    "\n",
    "    @property\n",
    "    def algo(self):\n",
    "        return self._algo"
   ]
  },
  {
   "cell_type": "code",
   "execution_count": null,
   "metadata": {},
   "outputs": [
    {
     "name": "stderr",
     "output_type": "stream",
     "text": [
      "/home/AD/user/lab/bmstestbedc2f2/.venv/lib/python3.11/site-packages/ray/rllib/algorithms/algorithm.py:568: RayDeprecationWarning: This API is deprecated and may be removed in future Ray releases. You could suppress this warning by setting env variable PYTHONWARNINGS=\"ignore::DeprecationWarning\"\n",
      "`UnifiedLogger` will be removed in Ray 2.7.\n",
      "  return UnifiedLogger(config, logdir, loggers=None)\n",
      "/home/AD/user/lab/bmstestbedc2f2/.venv/lib/python3.11/site-packages/ray/tune/logger/unified.py:53: RayDeprecationWarning: This API is deprecated and may be removed in future Ray releases. You could suppress this warning by setting env variable PYTHONWARNINGS=\"ignore::DeprecationWarning\"\n",
      "The `JsonLogger interface is deprecated in favor of the `ray.tune.json.JsonLoggerCallback` interface and will be removed in Ray 2.7.\n",
      "  self._loggers.append(cls(self.config, self.logdir, self.trial))\n",
      "/home/AD/user/lab/bmstestbedc2f2/.venv/lib/python3.11/site-packages/ray/tune/logger/unified.py:53: RayDeprecationWarning: This API is deprecated and may be removed in future Ray releases. You could suppress this warning by setting env variable PYTHONWARNINGS=\"ignore::DeprecationWarning\"\n",
      "The `CSVLogger interface is deprecated in favor of the `ray.tune.csv.CSVLoggerCallback` interface and will be removed in Ray 2.7.\n",
      "  self._loggers.append(cls(self.config, self.logdir, self.trial))\n",
      "/home/AD/user/lab/bmstestbedc2f2/.venv/lib/python3.11/site-packages/ray/tune/logger/unified.py:53: RayDeprecationWarning: This API is deprecated and may be removed in future Ray releases. You could suppress this warning by setting env variable PYTHONWARNINGS=\"ignore::DeprecationWarning\"\n",
      "The `TBXLogger interface is deprecated in favor of the `ray.tune.tensorboardx.TBXLoggerCallback` interface and will be removed in Ray 2.7.\n",
      "  self._loggers.append(cls(self.config, self.logdir, self.trial))\n",
      "2025-03-16 08:00:36,328\tWARNING util.py:61 -- Install gputil for GPU system monitoring.\n"
     ]
    },
    {
     "name": "stdout",
     "output_type": "stream",
     "text": [
      "TODO\n"
     ]
    },
    {
     "name": "stderr",
     "output_type": "stream",
     "text": [
      "2025-03-16 08:00:36,676\tINFO trainable.py:583 -- Restored on 192.168.200.249 from checkpoint: Checkpoint(filesystem=local, path=/home/AD/user/lab/bmstestbedc2f2/packages/bmstestbedc2f2/checkpoints/ppo_neural)\n"
     ]
    }
   ],
   "source": [
    "# TODO\n",
    "bms = _TODO_ManualBMSystem()\n",
    "controller = Controller(bms)\n",
    "\n",
    "controller.start()\n",
    "# bms.start()"
   ]
  },
  {
   "cell_type": "code",
   "execution_count": 8,
   "metadata": {},
   "outputs": [],
   "source": [
    "for zone_id in bms.zone_ids:\n",
    "    bms[(zone_id, 'temperature:thermostat')].value = 25."
   ]
  },
  {
   "cell_type": "markdown",
   "metadata": {},
   "source": [
    "<big>⬇️ SET THE VALUES HERE ⬇️</big>"
   ]
  },
  {
   "cell_type": "code",
   "execution_count": 87,
   "metadata": {},
   "outputs": [
    {
     "data": {
      "text/plain": [
       "{'ART-01-07': 27.78379201889038,\n",
       " 'ART-01-08': 28.821927309036255,\n",
       " 'ART-01-09': 23.35313081741333,\n",
       " 'ART-01-10': 26.633421778678894,\n",
       " 'ART-01-11a': 21.98805332183838,\n",
       " 'ART-01-12': 30.0,\n",
       " 'ART-01-13': 30.0,\n",
       " 'ART-01-14': 23.460897505283356}"
      ]
     },
     "execution_count": 87,
     "metadata": {},
     "output_type": "execute_result"
    }
   ],
   "source": [
    "import datetime\n",
    "AHU_TP=1.\n",
    "USER_PREF=24\n",
    "TEMP_SETPOINT=25\n",
    "\n",
    "bms.step({\n",
    "    'time': datetime.datetime.now(),\n",
    "\n",
    "    'load:ahu': AHU_TP,\n",
    "\n",
    "    ('ART-01-07', 'temperature'): 23.6,\n",
    "    ('ART-01-07', 'temperature:userpref'): USER_PREF,\n",
    "    ('ART-01-07', 'temperature:thermostat'): TEMP_SETPOINT,\n",
    "    ('ART-01-07', 'load:ahu'): AHU_TP,\n",
    "    ('ART-01-07', 'occupancy'): 1.,\n",
    "\n",
    "    ('ART-01-08', 'temperature'): 23.6,\n",
    "    ('ART-01-08', 'temperature:userpref'): USER_PREF,\n",
    "    ('ART-01-08', 'temperature:thermostat'): TEMP_SETPOINT,\n",
    "    ('ART-01-08', 'load:ahu'): AHU_TP,\n",
    "    ('ART-01-08', 'occupancy'): 1.,\n",
    "    \n",
    "    ('ART-01-09', 'temperature'): 23.6,\n",
    "    ('ART-01-09', 'temperature:userpref'): USER_PREF,\n",
    "    ('ART-01-09', 'temperature:thermostat'): TEMP_SETPOINT,\n",
    "    ('ART-01-09', 'load:ahu'): AHU_TP,\n",
    "    ('ART-01-09', 'occupancy'): 1.,\n",
    "    \n",
    "    ('ART-01-10', 'temperature'): 23.6,\n",
    "    ('ART-01-10', 'temperature:userpref'): USER_PREF,\n",
    "    ('ART-01-10', 'temperature:thermostat'): TEMP_SETPOINT,\n",
    "    ('ART-01-10', 'load:ahu'): AHU_TP,\n",
    "    ('ART-01-10', 'occupancy'): 1.,\n",
    "    \n",
    "    ('ART-01-11a', 'temperature'): 23.6,\n",
    "    ('ART-01-11a', 'temperature:userpref'): USER_PREF,\n",
    "    ('ART-01-11a', 'temperature:thermostat'): TEMP_SETPOINT,\n",
    "    ('ART-01-11a', 'load:ahu'): AHU_TP,\n",
    "    ('ART-01-11a', 'occupancy'): 1.,\n",
    "    \n",
    "    ('ART-01-12', 'temperature'): 23.6,\n",
    "    ('ART-01-12', 'temperature:userpref'): USER_PREF,\n",
    "    ('ART-01-12', 'temperature:thermostat'): TEMP_SETPOINT,\n",
    "    ('ART-01-12', 'load:ahu'): AHU_TP,\n",
    "    ('ART-01-12', 'occupancy'): 1.,\n",
    "    \n",
    "    ('ART-01-13', 'temperature'): 27.5,\n",
    "    ('ART-01-13', 'temperature:userpref'): USER_PREF,\n",
    "    ('ART-01-13', 'temperature:thermostat'): TEMP_SETPOINT,\n",
    "    ('ART-01-13', 'load:ahu'): AHU_TP,\n",
    "    ('ART-01-13', 'occupancy'): 1.,\n",
    "    \n",
    "    ('ART-01-14', 'temperature'): 25,\n",
    "    ('ART-01-14', 'temperature:userpref'): 25,\n",
    "    ('ART-01-14', 'temperature:thermostat'): TEMP_SETPOINT,\n",
    "    ('ART-01-14', 'load:ahu'): AHU_TP,\n",
    "    ('ART-01-14', 'occupancy'): 1.,\n",
    "})\n",
    "\n",
    "{\n",
    "    zone_id: bms[(zone_id, 'temperature:thermostat')].value \n",
    "    for zone_id in bms.zone_ids\n",
    "}\n"
   ]
  },
  {
   "cell_type": "code",
   "execution_count": 57,
   "metadata": {},
   "outputs": [],
   "source": [
    "# for debugging...\n",
    "# controller.algo.env_runner.env.agents.observations.value"
   ]
  }
 ],
 "metadata": {
  "kernelspec": {
   "display_name": "Python 3 (ipykernel)",
   "language": "python",
   "name": "python3"
  },
  "language_info": {
   "codemirror_mode": {
    "name": "ipython",
    "version": 3
   },
   "file_extension": ".py",
   "mimetype": "text/x-python",
   "name": "python",
   "nbconvert_exporter": "python",
   "pygments_lexer": "ipython3",
   "version": "3.11.2"
  }
 },
 "nbformat": 4,
 "nbformat_minor": 2
}
