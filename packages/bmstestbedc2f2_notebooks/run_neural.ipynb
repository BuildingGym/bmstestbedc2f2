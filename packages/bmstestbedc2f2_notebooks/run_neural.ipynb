{
 "cells": [
  {
   "cell_type": "code",
   "execution_count": 1,
   "metadata": {},
   "outputs": [],
   "source": [
    "from bmstestbedc2f2.systems import _TODO_NeuralBMSSystem\n"
   ]
  },
  {
   "cell_type": "code",
   "execution_count": 2,
   "metadata": {},
   "outputs": [],
   "source": [
    "system = _TODO_NeuralBMSSystem()\n",
    "#system.start()"
   ]
  },
  {
   "cell_type": "code",
   "execution_count": 3,
   "metadata": {},
   "outputs": [
    {
     "data": {
      "text/plain": [
       "{'time': <controllables.core.variables.MutableVariable at 0x7f7857bca510>,\n",
       " 'load:ahu': <controllables.core.variables.MutableVariable at 0x7f7857bcab10>,\n",
       " ('ART-01-07',\n",
       "  'temperature'): <controllables.core.variables.MutableVariable at 0x7f7857bca990>,\n",
       " ('ART-01-07',\n",
       "  'temperature:userpref'): <controllables.core.variables.MutableVariable at 0x7f7857bc8050>,\n",
       " ('ART-01-07',\n",
       "  'temperature:thermostat'): <controllables.core.variables.MutableVariable at 0x7f7857bc9410>,\n",
       " ('ART-01-08',\n",
       "  'temperature'): <controllables.core.variables.MutableVariable at 0x7f7857bca7d0>,\n",
       " ('ART-01-08',\n",
       "  'temperature:userpref'): <controllables.core.variables.MutableVariable at 0x7f7857bcaf90>,\n",
       " ('ART-01-08',\n",
       "  'temperature:thermostat'): <controllables.core.variables.MutableVariable at 0x7f7857bcafd0>,\n",
       " ('ART-01-09',\n",
       "  'temperature'): <controllables.core.variables.MutableVariable at 0x7f7857bc87d0>,\n",
       " ('ART-01-09',\n",
       "  'temperature:userpref'): <controllables.core.variables.MutableVariable at 0x7f7857bc8b50>,\n",
       " ('ART-01-09',\n",
       "  'temperature:thermostat'): <controllables.core.variables.MutableVariable at 0x7f7857bcab90>,\n",
       " ('ART-01-10',\n",
       "  'temperature'): <controllables.core.variables.MutableVariable at 0x7f7857bc97d0>,\n",
       " ('ART-01-10',\n",
       "  'temperature:userpref'): <controllables.core.variables.MutableVariable at 0x7f7857bcad10>,\n",
       " ('ART-01-10',\n",
       "  'temperature:thermostat'): <controllables.core.variables.MutableVariable at 0x7f7857bcaed0>,\n",
       " ('ART-01-11a',\n",
       "  'temperature'): <controllables.core.variables.MutableVariable at 0x7f7857bcaad0>,\n",
       " ('ART-01-11a',\n",
       "  'temperature:userpref'): <controllables.core.variables.MutableVariable at 0x7f7857bcae50>,\n",
       " ('ART-01-11a',\n",
       "  'temperature:thermostat'): <controllables.core.variables.MutableVariable at 0x7f7857bcad90>,\n",
       " ('ART-01-12',\n",
       "  'temperature'): <controllables.core.variables.MutableVariable at 0x7f7857bc8110>,\n",
       " ('ART-01-12',\n",
       "  'temperature:userpref'): <controllables.core.variables.MutableVariable at 0x7f7857bcb0d0>,\n",
       " ('ART-01-12',\n",
       "  'temperature:thermostat'): <controllables.core.variables.MutableVariable at 0x7f7857bca790>,\n",
       " ('ART-01-13',\n",
       "  'temperature'): <controllables.core.variables.MutableVariable at 0x7f7857bcab50>,\n",
       " ('ART-01-13',\n",
       "  'temperature:userpref'): <controllables.core.variables.MutableVariable at 0x7f7857bca810>,\n",
       " ('ART-01-13',\n",
       "  'temperature:thermostat'): <controllables.core.variables.MutableVariable at 0x7f7857bca1d0>,\n",
       " ('ART-01-14',\n",
       "  'temperature'): <controllables.core.variables.MutableVariable at 0x7f7857bca8d0>,\n",
       " ('ART-01-14',\n",
       "  'temperature:userpref'): <controllables.core.variables.MutableVariable at 0x7f7857bc8b90>,\n",
       " ('ART-01-14',\n",
       "  'temperature:thermostat'): <controllables.core.variables.MutableVariable at 0x7f78582f18d0>}"
      ]
     },
     "execution_count": 3,
     "metadata": {},
     "output_type": "execute_result"
    }
   ],
   "source": [
    "system.step()"
   ]
  },
  {
   "cell_type": "code",
   "execution_count": 19,
   "metadata": {},
   "outputs": [
    {
     "name": "stdout",
     "output_type": "stream",
     "text": [
      "time: 2025-02-19 15:23:39.266784\n",
      "load:ahu: <xarray.DataArray ()> Size: 4B\n",
      "array(-0.05779538, dtype=float32)\n",
      "Coordinates:\n",
      "    Feature  <U5 20B 'power'\n",
      "('ART-01-07', 'temperature'): <xarray.DataArray ()> Size: 4B\n",
      "array(-0.03798518, dtype=float32)\n",
      "Coordinates:\n",
      "    Feature  <U11 44B 'temperature'\n",
      "('ART-01-07', 'temperature:userpref'): 25\n",
      "('ART-01-07', 'temperature:thermostat'): 25\n",
      "('ART-01-08', 'temperature'): <xarray.DataArray ()> Size: 4B\n",
      "array(-0.07285809, dtype=float32)\n",
      "Coordinates:\n",
      "    Feature  <U11 44B 'temperature'\n",
      "('ART-01-08', 'temperature:userpref'): 25\n",
      "('ART-01-08', 'temperature:thermostat'): 25\n",
      "('ART-01-09', 'temperature'): <xarray.DataArray ()> Size: 4B\n",
      "array(-0.05673074, dtype=float32)\n",
      "Coordinates:\n",
      "    Feature  <U11 44B 'temperature'\n",
      "('ART-01-09', 'temperature:userpref'): 25\n",
      "('ART-01-09', 'temperature:thermostat'): 25\n",
      "('ART-01-10', 'temperature'): <xarray.DataArray ()> Size: 4B\n",
      "array(-0.07074317, dtype=float32)\n",
      "Coordinates:\n",
      "    Feature  <U11 44B 'temperature'\n",
      "('ART-01-10', 'temperature:userpref'): 25\n",
      "('ART-01-10', 'temperature:thermostat'): 25\n",
      "('ART-01-11a', 'temperature'): <xarray.DataArray ()> Size: 4B\n",
      "array(-0.069132, dtype=float32)\n",
      "Coordinates:\n",
      "    Feature  <U11 44B 'temperature'\n",
      "('ART-01-11a', 'temperature:userpref'): 25\n",
      "('ART-01-11a', 'temperature:thermostat'): 25\n",
      "('ART-01-12', 'temperature'): <xarray.DataArray ()> Size: 4B\n",
      "array(-0.07188459, dtype=float32)\n",
      "Coordinates:\n",
      "    Feature  <U11 44B 'temperature'\n",
      "('ART-01-12', 'temperature:userpref'): 25\n",
      "('ART-01-12', 'temperature:thermostat'): 25\n",
      "('ART-01-13', 'temperature'): <xarray.DataArray ()> Size: 4B\n",
      "array(-0.04463027, dtype=float32)\n",
      "Coordinates:\n",
      "    Feature  <U11 44B 'temperature'\n",
      "('ART-01-13', 'temperature:userpref'): 25\n",
      "('ART-01-13', 'temperature:thermostat'): 25\n",
      "('ART-01-14', 'temperature'): <xarray.DataArray ()> Size: 4B\n",
      "array(-0.0687896, dtype=float32)\n",
      "Coordinates:\n",
      "    Feature  <U11 44B 'temperature'\n",
      "('ART-01-14', 'temperature:userpref'): 25\n",
      "('ART-01-14', 'temperature:thermostat'): 25\n"
     ]
    }
   ],
   "source": [
    "for key, value in system.items():\n",
    "    print(f\"{key}: {value.value}\")"
   ]
  }
 ],
 "metadata": {
  "kernelspec": {
   "display_name": ".venv",
   "language": "python",
   "name": "python3"
  },
  "language_info": {
   "codemirror_mode": {
    "name": "ipython",
    "version": 3
   },
   "file_extension": ".py",
   "mimetype": "text/x-python",
   "name": "python",
   "nbconvert_exporter": "python",
   "pygments_lexer": "ipython3",
   "version": "3.11.2"
  }
 },
 "nbformat": 4,
 "nbformat_minor": 2
}
