{
 "cells": [
  {
   "cell_type": "code",
   "execution_count": 2,
   "metadata": {},
   "outputs": [],
   "source": [
    "import os\n",
    "import threading\n",
    "from ray.rllib.algorithms.ppo import PPO, PPOConfig\n",
    "\n",
    "from bmstestbedc2f2.systems import ProtoBMSystem, ManualBMSystem\n",
    "from bmstestbedc2f2.utils import resolve_path\n",
    "from bmstestbedc2f2.envs import MultiAgentBuildingEnv\n",
    "\n",
    "\n",
    "class Controller(threading.Thread):\n",
    "    def __init__(self, system: ProtoBMSystem):\n",
    "        super().__init__()\n",
    "        self._system = system\n",
    "        self._algo = PPO(\n",
    "            MultiAgentBuildingEnv.get_algo_config(\n",
    "                PPOConfig()\n",
    "                #.resources(num_gpus=1/2)\n",
    "                .env_runners(\n",
    "                    num_env_runners=0,\n",
    "                    create_env_on_local_worker=True,\n",
    "                ),\n",
    "                env_config=dict(\n",
    "                    bms_system=lambda: self._system,\n",
    "                ),\n",
    "            )\n",
    "        )\n",
    "\n",
    "    def run(self):\n",
    "        checkpoint_dir = resolve_path('algo_checkpoint')\n",
    "        if os.path.exists(checkpoint_dir):\n",
    "            self._algo.restore(checkpoint_dir)\n",
    "        while True:\n",
    "            for _ in range(100):\n",
    "                print(self._algo.train())\n",
    "            self._algo.save(checkpoint_dir)\n",
    "\n",
    "    @property\n",
    "    def algo(self):\n",
    "        return self._algo"
   ]
  },
  {
   "cell_type": "code",
   "execution_count": null,
   "metadata": {},
   "outputs": [
    {
     "name": "stderr",
     "output_type": "stream",
     "text": [
      "/home/AD/user/lab/reports/2024TESTBED/.venv/lib/python3.11/site-packages/ray/rllib/algorithms/algorithm.py:555: RayDeprecationWarning: This API is deprecated and may be removed in future Ray releases. You could suppress this warning by setting env variable PYTHONWARNINGS=\"ignore::DeprecationWarning\"\n",
      "`UnifiedLogger` will be removed in Ray 2.7.\n",
      "  return UnifiedLogger(config, logdir, loggers=None)\n",
      "/home/AD/user/lab/reports/2024TESTBED/.venv/lib/python3.11/site-packages/ray/tune/logger/unified.py:53: RayDeprecationWarning: This API is deprecated and may be removed in future Ray releases. You could suppress this warning by setting env variable PYTHONWARNINGS=\"ignore::DeprecationWarning\"\n",
      "The `JsonLogger interface is deprecated in favor of the `ray.tune.json.JsonLoggerCallback` interface and will be removed in Ray 2.7.\n",
      "  self._loggers.append(cls(self.config, self.logdir, self.trial))\n",
      "2025-01-08 05:35:39,486\tWARNING unified.py:56 -- Could not instantiate JsonLogger: cannot pickle '_thread.lock' object.\n"
     ]
    },
    {
     "name": "stderr",
     "output_type": "stream",
     "text": [
      "/home/AD/user/lab/reports/2024TESTBED/.venv/lib/python3.11/site-packages/ray/tune/logger/unified.py:53: RayDeprecationWarning: This API is deprecated and may be removed in future Ray releases. You could suppress this warning by setting env variable PYTHONWARNINGS=\"ignore::DeprecationWarning\"\n",
      "The `CSVLogger interface is deprecated in favor of the `ray.tune.csv.CSVLoggerCallback` interface and will be removed in Ray 2.7.\n",
      "  self._loggers.append(cls(self.config, self.logdir, self.trial))\n",
      "/home/AD/user/lab/reports/2024TESTBED/.venv/lib/python3.11/site-packages/ray/tune/logger/unified.py:53: RayDeprecationWarning: This API is deprecated and may be removed in future Ray releases. You could suppress this warning by setting env variable PYTHONWARNINGS=\"ignore::DeprecationWarning\"\n",
      "The `TBXLogger interface is deprecated in favor of the `ray.tune.tensorboardx.TBXLoggerCallback` interface and will be removed in Ray 2.7.\n",
      "  self._loggers.append(cls(self.config, self.logdir, self.trial))\n",
      "2025-01-08 05:35:40,609\tWARNING util.py:61 -- Install gputil for GPU system monitoring.\n"
     ]
    },
    {
     "data": {
      "text/plain": [
       "<bmstestbedc2f2.systems.ManualBMSystem at 0x7f13eae19dd0>"
      ]
     },
     "execution_count": 3,
     "metadata": {},
     "output_type": "execute_result"
    },
    {
     "name": "stderr",
     "output_type": "stream",
     "text": [
      "2025-01-08 05:35:40,619\tWARNING deprecation.py:50 -- DeprecationWarning: `_enable_new_api_stack` has been deprecated. Use `AlgorithmConfig._enable_new_api_stack` instead. This will raise an error in the future!\n"
     ]
    },
    {
     "name": "stderr",
     "output_type": "stream",
     "text": [
      "2025-01-08 05:35:40,650\tWARNING worker.py:1451 -- SIGTERM handler is not set because current thread is not the main thread.\n",
      "/home/AD/user/lab/reports/2024TESTBED/.venv/lib/python3.11/site-packages/ray/_private/node.py:1362: ResourceWarning: unclosed file <_io.TextIOWrapper name='/tmp/ray/session_2025-01-08_05-35-40_676530_2190314/logs/gcs_server.out' mode='a' encoding='utf-8'>\n",
      "  self.start_gcs_server()\n",
      "ResourceWarning: Enable tracemalloc to get the object allocation traceback\n",
      "/home/AD/user/lab/reports/2024TESTBED/.venv/lib/python3.11/site-packages/ray/_private/node.py:1362: ResourceWarning: unclosed file <_io.TextIOWrapper name='/tmp/ray/session_2025-01-08_05-35-40_676530_2190314/logs/gcs_server.err' mode='a' encoding='utf-8'>\n",
      "  self.start_gcs_server()\n",
      "ResourceWarning: Enable tracemalloc to get the object allocation traceback\n",
      "/home/AD/user/lab/reports/2024TESTBED/.venv/lib/python3.11/site-packages/ray/_private/node.py:1367: ResourceWarning: unclosed file <_io.TextIOWrapper name='/tmp/ray/session_2025-01-08_05-35-40_676530_2190314/logs/monitor.out' mode='a' encoding='utf-8'>\n",
      "  self.start_monitor()\n",
      "ResourceWarning: Enable tracemalloc to get the object allocation traceback\n",
      "/home/AD/user/lab/reports/2024TESTBED/.venv/lib/python3.11/site-packages/ray/_private/node.py:1367: ResourceWarning: unclosed file <_io.TextIOWrapper name='/tmp/ray/session_2025-01-08_05-35-40_676530_2190314/logs/monitor.err' mode='a' encoding='utf-8'>\n",
      "  self.start_monitor()\n",
      "ResourceWarning: Enable tracemalloc to get the object allocation traceback\n",
      "/home/AD/user/lab/reports/2024TESTBED/.venv/lib/python3.11/site-packages/ray/_private/node.py:1378: ResourceWarning: unclosed file <_io.TextIOWrapper name='/tmp/ray/session_2025-01-08_05-35-40_676530_2190314/logs/dashboard.err' mode='a' encoding='utf-8'>\n",
      "  self.start_api_server(\n",
      "ResourceWarning: Enable tracemalloc to get the object allocation traceback\n",
      "/home/AD/user/lab/reports/2024TESTBED/.venv/lib/python3.11/site-packages/ray/_private/node.py:1420: ResourceWarning: unclosed file <_io.TextIOWrapper name='/tmp/ray/session_2025-01-08_05-35-40_676530_2190314/logs/raylet.out' mode='a' encoding='utf-8'>\n",
      "  self.start_raylet(plasma_directory, object_store_memory)\n",
      "ResourceWarning: Enable tracemalloc to get the object allocation traceback\n",
      "/home/AD/user/lab/reports/2024TESTBED/.venv/lib/python3.11/site-packages/ray/_private/node.py:1420: ResourceWarning: unclosed file <_io.TextIOWrapper name='/tmp/ray/session_2025-01-08_05-35-40_676530_2190314/logs/raylet.err' mode='a' encoding='utf-8'>\n",
      "  self.start_raylet(plasma_directory, object_store_memory)\n",
      "ResourceWarning: Enable tracemalloc to get the object allocation traceback\n",
      "/home/AD/user/lab/reports/2024TESTBED/.venv/lib/python3.11/site-packages/ray/_private/node.py:1422: ResourceWarning: unclosed file <_io.TextIOWrapper name='/tmp/ray/session_2025-01-08_05-35-40_676530_2190314/logs/log_monitor.err' mode='a' encoding='utf-8'>\n",
      "  self.start_log_monitor()\n",
      "ResourceWarning: Enable tracemalloc to get the object allocation traceback\n",
      "2025-01-08 05:35:41,263\tINFO worker.py:1786 -- Started a local Ray instance.\n",
      "2025-01-08 05:35:42,061\tINFO trainable.py:583 -- Restored on 192.168.200.249 from checkpoint: Checkpoint(filesystem=local, path=/home/AD/user/lab/reports/2024TESTBED/packages/bmstestbedc2f2/algo_checkpoint)\n"
     ]
    }
   ],
   "source": [
    "bms = ManualBMSystem()\n",
    "controller = Controller(bms)\n",
    "\n",
    "controller.start()\n",
    "bms.start()"
   ]
  },
  {
   "cell_type": "markdown",
   "metadata": {},
   "source": [
    "<big>⬇️ SET THE VALUES HERE ⬇️</big>"
   ]
  },
  {
   "cell_type": "code",
   "execution_count": 28,
   "metadata": {},
   "outputs": [
    {
     "data": {
      "text/plain": [
       "{'ART-01-07': np.float32(23.92517),\n",
       " 'ART-01-08': np.float32(25.678621),\n",
       " 'ART-01-09': np.float32(27.649374),\n",
       " 'ART-01-10': np.float32(22.096546),\n",
       " 'ART-01-11a': np.float32(21.394005),\n",
       " 'ART-01-12': np.float32(30.0),\n",
       " 'ART-01-13': np.float32(22.66913),\n",
       " 'ART-01-14': np.float32(27.799866)}"
      ]
     },
     "execution_count": 28,
     "metadata": {},
     "output_type": "execute_result"
    }
   ],
   "source": [
    "import datetime\n",
    "AHU_TP=0.4622\n",
    "AHU_CO2=418\n",
    "AHU_Hum=61\n",
    "bms.step({\n",
    "    'time': datetime.datetime.now(),\n",
    "\n",
    "    ('ART-01-07', 'temperature:drybulb'): 23.6,\n",
    "    ('ART-01-07', 'temperature:radiant'): 23.6,\n",
    "    ('ART-01-07', 'humidity'): AHU_Hum,\n",
    "    ('ART-01-07', 'co2'): AHU_CO2,\n",
    "    ('ART-01-07', 'load:ahu'): AHU_TP,\n",
    "    ('ART-01-07', 'occupancy'): 1.,\n",
    "\n",
    "    ('ART-01-08', 'temperature:drybulb'): 22.7,\n",
    "    ('ART-01-08', 'temperature:radiant'): 22.7,\n",
    "    ('ART-01-08', 'humidity'): AHU_Hum,\n",
    "    ('ART-01-08', 'co2'): AHU_CO2,\n",
    "    ('ART-01-08', 'load:ahu'): AHU_TP,\n",
    "    ('ART-01-08', 'occupancy'): 1.,\n",
    "    \n",
    "    ('ART-01-09', 'temperature:drybulb'): 23.4,\n",
    "    ('ART-01-09', 'temperature:radiant'): 23.4,\n",
    "    ('ART-01-09', 'humidity'): AHU_Hum,\n",
    "    ('ART-01-09', 'co2'): AHU_CO2,\n",
    "    ('ART-01-09', 'load:ahu'): AHU_TP,\n",
    "    ('ART-01-09', 'occupancy'): 1.,\n",
    "    \n",
    "    ('ART-01-10', 'temperature:drybulb'): 22.3,\n",
    "    ('ART-01-10', 'temperature:radiant'): 22.3,\n",
    "    ('ART-01-10', 'humidity'): AHU_Hum,\n",
    "    ('ART-01-10', 'co2'): AHU_CO2,\n",
    "    ('ART-01-10', 'load:ahu'): AHU_TP,\n",
    "    ('ART-01-10', 'occupancy'): 1.,\n",
    "    \n",
    "    ('ART-01-11a', 'temperature:drybulb'): 23.0,\n",
    "    ('ART-01-11a', 'temperature:radiant'): 23.0,\n",
    "    ('ART-01-11a', 'humidity'): AHU_Hum,\n",
    "    ('ART-01-11a', 'co2'): AHU_CO2,\n",
    "    ('ART-01-11a', 'load:ahu'): AHU_TP,\n",
    "    ('ART-01-11a', 'occupancy'): 1.,\n",
    "    \n",
    "    ('ART-01-12', 'temperature:drybulb'): 20.7,\n",
    "    ('ART-01-12', 'temperature:radiant'): 20.7,\n",
    "    ('ART-01-12', 'humidity'): AHU_Hum,\n",
    "    ('ART-01-12', 'co2'): AHU_CO2,\n",
    "    ('ART-01-12', 'load:ahu'): AHU_TP,\n",
    "    ('ART-01-12', 'occupancy'): 1.,\n",
    "    \n",
    "    ('ART-01-13', 'temperature:drybulb'): 21.1,\n",
    "    ('ART-01-13', 'temperature:radiant'): 21.1,\n",
    "    ('ART-01-13', 'humidity'): AHU_Hum,\n",
    "    ('ART-01-13', 'load:ahu'): AHU_TP,\n",
    "    ('ART-01-13', 'co2'): AHU_CO2,\n",
    "    ('ART-01-13', 'occupancy'): 1.,\n",
    "    \n",
    "    ('ART-01-14', 'temperature:drybulb'): 23.3,\n",
    "    ('ART-01-14', 'temperature:radiant'): 23.3,\n",
    "    ('ART-01-14', 'humidity'): AHU_Hum,\n",
    "    ('ART-01-14', 'co2'): AHU_CO2,\n",
    "    ('ART-01-14', 'load:ahu'): AHU_TP,\n",
    "    ('ART-01-14', 'occupancy'): 1.,\n",
    "})\n",
    "\n",
    "{\n",
    "    zone_id: bms[(zone_id, 'setpoint:thermostat')].value \n",
    "    for zone_id in bms.zone_ids\n",
    "}\n"
   ]
  },
  {
   "cell_type": "code",
   "execution_count": 4,
   "metadata": {},
   "outputs": [],
   "source": [
    "# for debugging...\n",
    "# controller.algo.env_runner.env.agents.observations.value"
   ]
  }
 ],
 "metadata": {
  "kernelspec": {
   "display_name": ".venv",
   "language": "python",
   "name": "python3"
  },
  "language_info": {
   "codemirror_mode": {
    "name": "ipython",
    "version": 3
   },
   "file_extension": ".py",
   "mimetype": "text/x-python",
   "name": "python",
   "nbconvert_exporter": "python",
   "pygments_lexer": "ipython3",
   "version": "3.11.2"
  }
 },
 "nbformat": 4,
 "nbformat_minor": 2
}
