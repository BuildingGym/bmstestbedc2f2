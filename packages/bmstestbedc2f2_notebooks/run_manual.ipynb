{
 "cells": [
  {
   "cell_type": "code",
   "execution_count": null,
   "metadata": {},
   "outputs": [
    {
     "name": "stderr",
     "output_type": "stream",
     "text": [
      "/home/AD/user/lab/bmstestbedc2f2/.venv/lib/python3.11/site-packages/tqdm/auto.py:21: TqdmWarning: IProgress not found. Please update jupyter and ipywidgets. See https://ipywidgets.readthedocs.io/en/stable/user_install.html\n",
      "  from .autonotebook import tqdm as notebook_tqdm\n",
      "2025-02-19 13:59:14,816\tINFO util.py:154 -- Missing packages: ['ipywidgets']. Run `pip install -U ipywidgets`, then restart the notebook server for rich notebook output.\n",
      "2025-02-19 13:59:17,749\tINFO util.py:154 -- Missing packages: ['ipywidgets']. Run `pip install -U ipywidgets`, then restart the notebook server for rich notebook output.\n"
     ]
    }
   ],
   "source": [
    "import os\n",
    "import threading\n",
    "from ray.rllib.algorithms.ppo import PPO, PPOConfig\n",
    "\n",
    "from bmstestbedc2f2.systems import _TODO_ProtoBMSystem, _TODO_ManualBMSystem\n",
    "from bmstestbedc2f2.utils import resolve_path\n",
    "from bmstestbedc2f2.envs import _TODO_MultiAgentBuildingEnv\n",
    "\n",
    "\n",
    "class Controller(threading.Thread):\n",
    "    def __init__(self, system: _TODO_ProtoBMSystem):\n",
    "        super().__init__()\n",
    "        self._system = system\n",
    "        self._algo = PPO(\n",
    "            _TODO_MultiAgentBuildingEnv.get_algo_config(\n",
    "                PPOConfig()\n",
    "                #.resources(num_gpus=1/2)\n",
    "                .env_runners(\n",
    "                    num_env_runners=0,\n",
    "                    create_env_on_local_worker=True,\n",
    "                ),\n",
    "                env_config=dict(\n",
    "                    bms_system=lambda: self._system,\n",
    "                ),\n",
    "            )\n",
    "        )\n",
    "\n",
    "    def run(self):\n",
    "        checkpoint_dir = resolve_path('algo_checkpoint')\n",
    "        if os.path.exists(checkpoint_dir):\n",
    "            self._algo.restore(checkpoint_dir)\n",
    "        while True:\n",
    "            for _ in range(100):\n",
    "                print(self._algo.train())\n",
    "            self._algo.save(checkpoint_dir)\n",
    "\n",
    "    @property\n",
    "    def algo(self):\n",
    "        return self._algo"
   ]
  },
  {
   "cell_type": "code",
   "execution_count": null,
   "metadata": {},
   "outputs": [],
   "source": [
    "# TODO\n",
    "bms = _TODO_ManualBMSystem()\n",
    "controller = Controller(bms)\n",
    "\n",
    "controller.start()\n",
    "bms.start()\n",
    "\n",
    "for zone_id in bms.zone_ids:\n",
    "    bms[(zone_id, 'temperature:thermostat')].value = 25."
   ]
  },
  {
   "cell_type": "markdown",
   "metadata": {},
   "source": [
    "<big>⬇️ SET THE VALUES HERE ⬇️</big>"
   ]
  },
  {
   "cell_type": "code",
   "execution_count": 7,
   "metadata": {},
   "outputs": [
    {
     "data": {
      "text/plain": [
       "{'ART-01-07': 25,\n",
       " 'ART-01-08': 25,\n",
       " 'ART-01-09': 25,\n",
       " 'ART-01-10': 25,\n",
       " 'ART-01-11a': 25,\n",
       " 'ART-01-12': 25,\n",
       " 'ART-01-13': 25,\n",
       " 'ART-01-14': 25}"
      ]
     },
     "execution_count": 7,
     "metadata": {},
     "output_type": "execute_result"
    }
   ],
   "source": [
    "import datetime\n",
    "AHU_TP=1.\n",
    "USER_PREF=24\n",
    "TEMP_SETPOINT=25\n",
    "\n",
    "bms.step({\n",
    "    'time': datetime.datetime.now(),\n",
    "\n",
    "    'load:ahu': AHU_TP,\n",
    "\n",
    "    ('ART-01-07', 'temperature'): 23.6,\n",
    "    ('ART-01-07', 'temperature:userpref'): USER_PREF,\n",
    "    ('ART-01-07', 'temperature:thermostat'): TEMP_SETPOINT,\n",
    "    ('ART-01-07', 'load:ahu'): AHU_TP,\n",
    "    ('ART-01-07', 'occupancy'): 1.,\n",
    "\n",
    "    ('ART-01-08', 'temperature'): 23.6,\n",
    "    ('ART-01-08', 'temperature:userpref'): USER_PREF,\n",
    "    ('ART-01-08', 'temperature:thermostat'): TEMP_SETPOINT,\n",
    "    ('ART-01-08', 'load:ahu'): AHU_TP,\n",
    "    ('ART-01-08', 'occupancy'): 1.,\n",
    "    \n",
    "    ('ART-01-09', 'temperature'): 23.6,\n",
    "    ('ART-01-09', 'temperature:userpref'): USER_PREF,\n",
    "    ('ART-01-09', 'temperature:thermostat'): TEMP_SETPOINT,\n",
    "    ('ART-01-09', 'load:ahu'): AHU_TP,\n",
    "    ('ART-01-09', 'occupancy'): 1.,\n",
    "    \n",
    "    ('ART-01-10', 'temperature'): 23.6,\n",
    "    ('ART-01-10', 'temperature:userpref'): USER_PREF,\n",
    "    ('ART-01-10', 'temperature:thermostat'): TEMP_SETPOINT,\n",
    "    ('ART-01-10', 'load:ahu'): AHU_TP,\n",
    "    ('ART-01-10', 'occupancy'): 1.,\n",
    "    \n",
    "    ('ART-01-11a', 'temperature'): 23.6,\n",
    "    ('ART-01-11a', 'temperature:userpref'): USER_PREF,\n",
    "    ('ART-01-11a', 'temperature:thermostat'): TEMP_SETPOINT,\n",
    "    ('ART-01-11a', 'load:ahu'): AHU_TP,\n",
    "    ('ART-01-11a', 'occupancy'): 1.,\n",
    "    \n",
    "    ('ART-01-12', 'temperature'): 23.6,\n",
    "    ('ART-01-12', 'temperature:userpref'): USER_PREF,\n",
    "    ('ART-01-12', 'temperature:thermostat'): TEMP_SETPOINT,\n",
    "    ('ART-01-12', 'load:ahu'): AHU_TP,\n",
    "    ('ART-01-12', 'occupancy'): 1.,\n",
    "    \n",
    "    ('ART-01-13', 'temperature'): 27.5,\n",
    "    ('ART-01-13', 'temperature:userpref'): USER_PREF,\n",
    "    ('ART-01-13', 'temperature:thermostat'): TEMP_SETPOINT,\n",
    "    ('ART-01-13', 'load:ahu'): AHU_TP,\n",
    "    ('ART-01-13', 'occupancy'): 1.,\n",
    "    \n",
    "    ('ART-01-14', 'temperature'): 25,\n",
    "    ('ART-01-14', 'temperature:userpref'): 25,\n",
    "    ('ART-01-14', 'temperature:thermostat'): TEMP_SETPOINT,\n",
    "    ('ART-01-14', 'load:ahu'): AHU_TP,\n",
    "    ('ART-01-14', 'occupancy'): 1.,\n",
    "})\n",
    "\n",
    "{\n",
    "    zone_id: bms[(zone_id, 'temperature:thermostat')].value \n",
    "    for zone_id in bms.zone_ids\n",
    "}\n"
   ]
  },
  {
   "cell_type": "code",
   "execution_count": null,
   "metadata": {},
   "outputs": [],
   "source": [
    "# for debugging...\n",
    "# controller.algo.env_runner.env.agents.observations.value"
   ]
  }
 ],
 "metadata": {
  "kernelspec": {
   "display_name": ".venv",
   "language": "python",
   "name": "python3"
  },
  "language_info": {
   "codemirror_mode": {
    "name": "ipython",
    "version": 3
   },
   "file_extension": ".py",
   "mimetype": "text/x-python",
   "name": "python",
   "nbconvert_exporter": "python",
   "pygments_lexer": "ipython3",
   "version": "3.11.2"
  }
 },
 "nbformat": 4,
 "nbformat_minor": 2
}
