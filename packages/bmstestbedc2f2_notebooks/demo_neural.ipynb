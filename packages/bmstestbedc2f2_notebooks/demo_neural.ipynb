{
 "cells": [
  {
   "cell_type": "code",
   "execution_count": null,
   "metadata": {},
   "outputs": [],
   "source": [
    "from bmstestbedc2f2.systems import _TODO_NeuralBMSystemV2\n"
   ]
  },
  {
   "cell_type": "code",
   "execution_count": null,
   "metadata": {},
   "outputs": [],
   "source": [
    "system = _TODO_NeuralBMSystemV2(model_options={'device': 'cuda'})\n",
    "system.restore()\n",
    "#system.start()"
   ]
  },
  {
   "cell_type": "code",
   "execution_count": null,
   "metadata": {},
   "outputs": [
    {
     "name": "stdout",
     "output_type": "stream",
     "text": [
      "time: 2025-03-15 14:39:59.442023\n",
      "load:ahu: 4.929716110229492\n",
      "('ART-01-07', 'temperature'): 23.04909896850586\n",
      "('ART-01-07', 'temperature:userpref'): 25\n",
      "('ART-01-07', 'temperature:thermostat'): 25\n",
      "('ART-01-08', 'temperature'): 22.663949966430664\n",
      "('ART-01-08', 'temperature:userpref'): 25\n",
      "('ART-01-08', 'temperature:thermostat'): 25\n",
      "('ART-01-09', 'temperature'): 19.95410919189453\n",
      "('ART-01-09', 'temperature:userpref'): 25\n",
      "('ART-01-09', 'temperature:thermostat'): 25\n",
      "('ART-01-10', 'temperature'): 22.62596321105957\n",
      "('ART-01-10', 'temperature:userpref'): 25\n",
      "('ART-01-10', 'temperature:thermostat'): 25\n",
      "('ART-01-11a', 'temperature'): 23.748788833618164\n",
      "('ART-01-11a', 'temperature:userpref'): 25\n",
      "('ART-01-11a', 'temperature:thermostat'): 25\n",
      "('ART-01-12', 'temperature'): 22.197402954101562\n",
      "('ART-01-12', 'temperature:userpref'): 25\n",
      "('ART-01-12', 'temperature:thermostat'): 25\n",
      "('ART-01-13', 'temperature'): 22.281147003173828\n",
      "('ART-01-13', 'temperature:userpref'): 25\n",
      "('ART-01-13', 'temperature:thermostat'): 25\n",
      "('ART-01-14', 'temperature'): 22.824251174926758\n",
      "('ART-01-14', 'temperature:userpref'): 25\n",
      "('ART-01-14', 'temperature:thermostat'): 25\n"
     ]
    }
   ],
   "source": [
    "system.step()\n",
    "for key, value in system.items():\n",
    "    print(f\"{key}: {value.value}\")"
   ]
  },
  {
   "cell_type": "code",
   "execution_count": null,
   "metadata": {},
   "outputs": [],
   "source": []
  }
 ],
 "metadata": {
  "kernelspec": {
   "display_name": ".venv",
   "language": "python",
   "name": "python3"
  },
  "language_info": {
   "codemirror_mode": {
    "name": "ipython",
    "version": 3
   },
   "file_extension": ".py",
   "mimetype": "text/x-python",
   "name": "python",
   "nbconvert_exporter": "python",
   "pygments_lexer": "ipython3",
   "version": "3.11.2"
  }
 },
 "nbformat": 4,
 "nbformat_minor": 2
}
